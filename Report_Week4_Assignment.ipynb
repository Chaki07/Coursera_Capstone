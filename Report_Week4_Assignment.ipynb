{
 "cells": [
  {
   "cell_type": "markdown",
   "metadata": {},
   "source": [
    "This will notebook will devoted to the Applied Capstone Project for Data Science"
   ]
  },
  {
   "cell_type": "markdown",
   "metadata": {},
   "source": [
    "\n",
    "# Introduction/Business Problem\n",
    "\n",
    "### In this capstone project I have choosen to figure out the best location in Columbus, OH to build a Greek resteraunt based on most visited venues\n",
    "\n",
    "# Background Discussion\n",
    "\n",
    "### Columbus is a fast growing city. In June of 2016 Columbus won a grant from the Department of Transportation totaling 40 million dollars for the Smart City initiative. This is one of many business ventures Columbus has taken on. With that said, the private sector has been growing too. Because of that, the demand for many types of resteraunts has increased. Columbus is home to many cultural cuisines. Japanese, Chinese, Indian and Mediterrainean cuisines are commmon place in Columbus. It's a great place to grow a restauraunt business."
   ]
  },
  {
   "cell_type": "markdown",
   "metadata": {},
   "source": [
    "# Data methods to use:\n",
    "\n",
    "### In order to accomplish this I will want to find the top Greek venues from a 10 mile radius of greater Columbus (Smith Brothers Hardware Building). Then I will use folium to find the best place to put a Greek Resteraunt.  I won't want to have two Greek Resteraunts close together. Then after I show that data in a dataframe, I will show in a folium map the venues to make it easy to see the clusters and understand where the most populated areas are. Then I will pitch the best site to build a resteraunt on.\n",
    "\n",
    "# Who would be interested in this (shareholders)?:\n",
    "\n",
    "### Anyone looking to open a Greek restaurant in Columbus, OH.\n",
    "\n",
    "# Data that will be used:\n",
    "\n",
    "### I will use the Foursquare API to bring in venues located near Columbus.\n",
    "\n",
    "# Methodology:\n",
    "\n",
    "### I plan to use Foursquare API to bring the code in and Folium to show the location of the Greek resteraunts so that I can determine where a good location might be for a new business.\n"
   ]
  },
  {
   "cell_type": "markdown",
   "metadata": {},
   "source": [
    "# My Results:"
   ]
  },
  {
   "cell_type": "markdown",
   "metadata": {},
   "source": [
    "### The result is developed in other notebook which is also given. Please check the 2nd notebook link for the result."
   ]
  },
  {
   "cell_type": "markdown",
   "metadata": {},
   "source": [
    "# Observations and Recommendations:"
   ]
  },
  {
   "cell_type": "markdown",
   "metadata": {},
   "source": [
    "### Based on my intial findings it appears the the best location for a greek resteraunt would be in the east quadrant closest to Bexley. 1. Bexley is an area of population where most families are upper middle class and would have discretionary income to be able to go out to eat. They like fine dining and so you could make the Greek resteraunt cater to the needs of the location. This location would also bring in business from the southeastern quadrant of Central Ohio. Mainly the Pickerington, Canal Winchester areas."
   ]
  },
  {
   "cell_type": "markdown",
   "metadata": {},
   "source": [
    "# Conclusion:\n",
    "\n",
    "### Since Bexley has a afluent community and there is not a Greek Resteraunt near it, I believe that Bexley would be an ideal location to build a new Greek Resteraunt. If you market it as high quality and stand by that and build a loyal customer base, this resteraunt would be highly successful in this area."
   ]
  },
  {
   "cell_type": "markdown",
   "metadata": {},
   "source": [
    "# References:\n",
    "\n",
    "### https://www.techrepublic.com/article/how-columbus-ohio-parlayed-50-million-into-500-million-for-a-smart-city-transportation-network/\n",
    "### https://en.wikipedia.org/wiki/Bexley,_Ohio"
   ]
  }
 ],
 "metadata": {
  "kernelspec": {
   "display_name": "Python 3",
   "language": "python",
   "name": "python3"
  },
  "language_info": {
   "codemirror_mode": {
    "name": "ipython",
    "version": 3
   },
   "file_extension": ".py",
   "mimetype": "text/x-python",
   "name": "python",
   "nbconvert_exporter": "python",
   "pygments_lexer": "ipython3",
   "version": "3.6.5"
  }
 },
 "nbformat": 4,
 "nbformat_minor": 2
}
